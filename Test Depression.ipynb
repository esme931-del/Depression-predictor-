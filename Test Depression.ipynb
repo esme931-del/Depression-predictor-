{
 "cells": [
  {
   "cell_type": "code",
   "execution_count": 2,
   "id": "deee6cf7-e087-48c8-b05e-46d8f0c8a228",
   "metadata": {},
   "outputs": [
    {
     "name": "stdout",
     "output_type": "stream",
     "text": [
      "Model loaded and ready to use, let's go ! \n"
     ]
    }
   ],
   "source": [
    "import joblib, json\n",
    "import pandas as pd\n",
    "\n",
    "# Load the trained model\n",
    "model = joblib.load('depression_model.joblib')\n",
    "\n",
    "# Load the expected columns\n",
    "with open('depression_model_columns.json') as f:\n",
    "    expected_cols = json.load(f)\n",
    "\n",
    "print(\"Model loaded and ready to use, let's go ! \")\n"
   ]
  },
  {
   "cell_type": "code",
   "execution_count": 3,
   "id": "c324e5c6-e1d1-4ffe-a990-27cee7626ddb",
   "metadata": {},
   "outputs": [
    {
     "name": "stdout",
     "output_type": "stream",
     "text": [
      "\n",
      "🧠 Depression Prediction Test\n",
      "(please answer honestly)\n",
      "\n"
     ]
    },
    {
     "name": "stdin",
     "output_type": "stream",
     "text": [
      "Age:  23\n",
      "Your CGPA (0–10):  7\n",
      "Average Work/Study Hours per day:  3\n",
      "Stress score (0–5):  3\n",
      "Satisfaction score (0–5):  4\n",
      "Gender (female=0, male=1):  0\n",
      "Have you ever had suicidal thoughts? (no=0, yes=1):  0\n",
      "Family history of mental illness? (no=0, yes=1):  1\n",
      "Area type (rural=0, urban=1):  1\n",
      "Sleep Duration (<5h, 5-6h, 7-8h, >8h):  5-6h\n",
      "Highest Degree (high school, bachelor, master, doctorate, other):  master\n",
      "Profession category (student, education, healthcare, creative, professional, management, service, other):  student\n",
      "Dietary habits (healthy, moderate, unhealthy, others):  unhealthy\n"
     ]
    },
    {
     "name": "stdout",
     "output_type": "stream",
     "text": [
      "\n",
      "--- Prediction ---\n",
      "Probability of depression: 71.48%\n",
      "Predicted class: 1  (1 = depressed, 0 = not)\n",
      "⚠️  This is not a diagnosis. Please seek professional help if you feel unwell.\n"
     ]
    },
    {
     "data": {
      "text/plain": [
       "(1, np.float64(0.7148328934642311))"
      ]
     },
     "execution_count": 3,
     "metadata": {},
     "output_type": "execute_result"
    }
   ],
   "source": [
    "# ---- Interactive prediction ----\n",
    "\n",
    "def predict_user_input(threshold=0.5):\n",
    "    print(\"\\n🧠 Depression Prediction Test\\n(please answer honestly)\\n\")\n",
    "\n",
    "    # Ask questions\n",
    "    age = float(input(\"Age: \"))\n",
    "    cgpa = float(input(\"Your CGPA (0–10): \"))\n",
    "    work_hours = float(input(\"Average Work/Study Hours per day: \"))\n",
    "    stress = float(input(\"Stress score (0–5): \"))\n",
    "    satisfaction = float(input(\"Satisfaction score (0–5): \"))\n",
    "    gender = int(input(\"Gender (female=0, male=1): \"))\n",
    "    suicidal = int(input(\"Have you ever had suicidal thoughts? (no=0, yes=1): \"))\n",
    "    family_history = int(input(\"Family history of mental illness? (no=0, yes=1): \"))\n",
    "    area = int(input(\"Area type (rural=0, urban=1): \"))\n",
    "    sleep = input(\"Sleep Duration (<5h, 5-6h, 7-8h, >8h): \").strip().lower()\n",
    "    degree = input(\"Highest Degree (high school, bachelor, master, doctorate, other): \").strip().lower()\n",
    "    profession = input(\"Profession category (student, education, healthcare, creative, professional, management, service, other): \").strip().lower()\n",
    "    diet = input(\"Dietary habits (healthy, moderate, unhealthy, others): \").strip().lower()\n",
    "\n",
    "    # Create dataframe\n",
    "    user = {\n",
    "        'Age': age,\n",
    "        'CGPA': cgpa,\n",
    "        'Work/Study Hours': work_hours,\n",
    "        'Stress_Score': stress,\n",
    "        'Satisfaction_Score': satisfaction,\n",
    "        'Gender': gender,\n",
    "        'Have you ever had suicidal thoughts ?': suicidal,\n",
    "        'Family History of Mental Illness': family_history,\n",
    "        'Area_Type': area,\n",
    "        'Sleep Duration': sleep,\n",
    "        'Degree': degree,\n",
    "        'Profession': profession,\n",
    "        'Dietary Habits': diet\n",
    "    }\n",
    "\n",
    "    X_new = pd.DataFrame([user])\n",
    "\n",
    "    # Align with training columns\n",
    "    for c in expected_cols:\n",
    "        if c not in X_new.columns:\n",
    "            X_new[c] = 0\n",
    "    X_new = X_new[expected_cols]\n",
    "\n",
    "    # Predict\n",
    "    proba = model.predict_proba(X_new)[:, 1][0]\n",
    "    pred = int(proba >= threshold)\n",
    "\n",
    "    print(\"\\n--- Prediction ---\")\n",
    "    print(f\"Probability of depression: {proba:.2%}\")\n",
    "    print(f\"Predicted class: {pred}  (1 = depressed, 0 = not)\")\n",
    "    if pred == 1:\n",
    "        print(\"⚠️  This is not a diagnosis. Please seek professional help if you feel unwell.\")\n",
    "    else:\n",
    "        print(\"😊  You show no significant risk based on these answers.\")\n",
    "    return pred, proba\n",
    "\n",
    "\n",
    "# Run the test interactively\n",
    "predict_user_input()\n"
   ]
  },
  {
   "cell_type": "code",
   "execution_count": null,
   "id": "8341546a-60df-4699-8c92-8454927c2992",
   "metadata": {},
   "outputs": [],
   "source": []
  },
  {
   "cell_type": "code",
   "execution_count": null,
   "id": "26e35559-4c5e-4dcc-be50-b1e2cbb9824e",
   "metadata": {},
   "outputs": [],
   "source": []
  }
 ],
 "metadata": {
  "kernelspec": {
   "display_name": "Python [conda env:base] *",
   "language": "python",
   "name": "conda-base-py"
  },
  "language_info": {
   "codemirror_mode": {
    "name": "ipython",
    "version": 3
   },
   "file_extension": ".py",
   "mimetype": "text/x-python",
   "name": "python",
   "nbconvert_exporter": "python",
   "pygments_lexer": "ipython3",
   "version": "3.13.5"
  }
 },
 "nbformat": 4,
 "nbformat_minor": 5
}
